{
  "nbformat": 4,
  "nbformat_minor": 0,
  "metadata": {
    "colab": {
      "provenance": [],
      "authorship_tag": "ABX9TyO5l8MAhjfgxpBVnV8lASCu",
      "include_colab_link": true
    },
    "kernelspec": {
      "name": "python3",
      "display_name": "Python 3"
    },
    "language_info": {
      "name": "python"
    }
  },
  "cells": [
    {
      "cell_type": "markdown",
      "metadata": {
        "id": "view-in-github",
        "colab_type": "text"
      },
      "source": [
        "<a href=\"https://colab.research.google.com/github/PedroMarra/Estrutura-de-Dados/blob/main/ATV5filas.ipynb\" target=\"_parent\"><img src=\"https://colab.research.google.com/assets/colab-badge.svg\" alt=\"Open In Colab\"/></a>"
      ]
    },
    {
      "cell_type": "code",
      "execution_count": null,
      "metadata": {
        "colab": {
          "base_uri": "https://localhost:8080/"
        },
        "id": "VJS-S7YTdzdK",
        "outputId": "1d6a5ea3-96dc-4593-b440-8351ed14aa9c"
      },
      "outputs": [
        {
          "output_type": "stream",
          "name": "stdout",
          "text": [
            "\n",
            "MENU\n",
            "1. Cadastrar tipo\n",
            "2. Cadastrar produto\n",
            "3. Consultar preço de um produto\n",
            "4. Excluir tipo\n",
            "5. Sair\n",
            "Escolha uma opção: 5\n",
            "Saindo do programa.\n"
          ]
        }
      ],
      "source": [
        "from collections import deque\n",
        "\n",
        "# Estruturas de dados\n",
        "tipos = deque()  # Fila para tipos de produtos\n",
        "produtos = deque()  # Fila para produtos\n",
        "\n",
        "# Função para cadastrar tipo\n",
        "def cadastrar_tipo():\n",
        "    tipo = input(\"Digite o tipo (uma letra) e o percentual de imposto (ex: A 10): \")\n",
        "    tipos.append(tipo)\n",
        "    print(\"Tipo cadastrado.\")\n",
        "\n",
        "# Função para cadastrar produto\n",
        "def cadastrar_produto():\n",
        "    if not tipos:\n",
        "        print(\"Tipo de produto inexistente.\")\n",
        "        return\n",
        "\n",
        "    tipo = input(\"Digite o tipo do produto (deve ser uma letra já cadastrada): \")\n",
        "    if tipo not in [t[0] for t in tipos]:\n",
        "        print(\"Tipo de produto inexistente.\")\n",
        "        return\n",
        "\n",
        "    preco = float(input(\"Digite o preço do produto: \"))\n",
        "    codigo = len(produtos) + 1  # Gera código automaticamente\n",
        "    produtos.append((codigo, preco, tipo))\n",
        "    print(\"Produto cadastrado.\")\n",
        "\n",
        "# Função para consultar preço de um produto\n",
        "def consultar_preco():\n",
        "    if not produtos:\n",
        "        print(\"Fila vazia.\")\n",
        "        return\n",
        "\n",
        "    codigo = int(input(\"Digite o código do produto: \"))\n",
        "    for produto in produtos:\n",
        "        if produto[0] == codigo:\n",
        "            tipo = produto[2]\n",
        "            percentual_imposto = next((int(t.split()[1]) for t in tipos if t[0] == tipo), 0)\n",
        "            preco_final = produto[1] - (produto[1] * percentual_imposto / 100)\n",
        "            print(f\"Preço = {preco_final:.2f}\")\n",
        "            return\n",
        "\n",
        "    print(\"Produto não encontrado.\")\n",
        "\n",
        "# Função para excluir tipo\n",
        "def excluir_tipo():\n",
        "    tipo = input(\"Digite o tipo a ser excluído (uma letra): \")\n",
        "    if tipo not in [t[0] for t in tipos]:\n",
        "        print(\"Tipo não encontrado.\")\n",
        "        return\n",
        "\n",
        "    # Verifica se existem produtos desse tipo\n",
        "    if any(produto[2] == tipo for produto in produtos):\n",
        "        print(\"Não é possível excluir o tipo, existem produtos cadastrados para ele.\")\n",
        "        return\n",
        "\n",
        "    # Remove o tipo da fila\n",
        "    tipos.remove(next(t for t in tipos if t[0] == tipo))\n",
        "    print(\"Tipo excluído.\")\n",
        "\n",
        "# Função principal\n",
        "def main():\n",
        "    while True:\n",
        "        print(\"\\nMENU\")\n",
        "        print(\"1. Cadastrar tipo\")\n",
        "        print(\"2. Cadastrar produto\")\n",
        "        print(\"3. Consultar preço de um produto\")\n",
        "        print(\"4. Excluir tipo\")\n",
        "        print(\"5. Sair\")\n",
        "\n",
        "        opcao = input(\"Escolha uma opção: \")\n",
        "\n",
        "        if opcao == '1':\n",
        "            cadastrar_tipo()\n",
        "        elif opcao == '2':\n",
        "            cadastrar_produto()\n",
        "        elif opcao == '3':\n",
        "            consultar_preco()\n",
        "        elif opcao == '4':\n",
        "            excluir_tipo()\n",
        "        elif opcao == '5':\n",
        "            print(\"Saindo do programa.\")\n",
        "            break\n",
        "        else:\n",
        "            print(\"Opção inválida.\")\n",
        "\n",
        "# Executa o programa\n",
        "if __name__ == \"__main__\":\n",
        "    main()"
      ]
    }
  ]
}