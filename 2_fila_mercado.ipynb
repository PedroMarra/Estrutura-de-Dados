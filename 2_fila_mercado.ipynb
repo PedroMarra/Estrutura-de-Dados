{
  "nbformat": 4,
  "nbformat_minor": 0,
  "metadata": {
    "colab": {
      "provenance": [],
      "authorship_tag": "ABX9TyPyXZ1vngKfRX72YTRZt2hO",
      "include_colab_link": true
    },
    "kernelspec": {
      "name": "python3",
      "display_name": "Python 3"
    },
    "language_info": {
      "name": "python"
    }
  },
  "cells": [
    {
      "cell_type": "markdown",
      "metadata": {
        "id": "view-in-github",
        "colab_type": "text"
      },
      "source": [
        "<a href=\"https://colab.research.google.com/github/PedroMarra/Estrutura-de-Dados/blob/main/2_fila_mercado.ipynb\" target=\"_parent\"><img src=\"https://colab.research.google.com/assets/colab-badge.svg\" alt=\"Open In Colab\"/></a>"
      ]
    },
    {
      "cell_type": "code",
      "execution_count": 1,
      "metadata": {
        "colab": {
          "base_uri": "https://localhost:8080/"
        },
        "id": "7gp6nA0ejhBu",
        "outputId": "4b797224-77ad-4447-8b9a-6cb888f1e8b4"
      },
      "outputs": [
        {
          "output_type": "stream",
          "name": "stdout",
          "text": [
            "\n",
            "Fila Preferencial: ['Maria', 'Dona Ana']\n",
            "Fila Normal: ['João', 'Carlos']\n",
            "Atendendo: Maria\n",
            "Atendendo: Dona Ana\n",
            "\n",
            "Fila Preferencial: []\n",
            "Fila Normal: ['João', 'Carlos']\n"
          ]
        }
      ],
      "source": [
        "from collections import deque\n",
        "\n",
        "fila_normal = deque()\n",
        "fila_preferencial = deque()\n",
        "\n",
        "def adicionar_cliente(nome, preferencial=False):\n",
        "    if preferencial:\n",
        "        fila_preferencial.append(nome)\n",
        "    else:\n",
        "        fila_normal.append(nome)\n",
        "\n",
        "def atender_cliente():\n",
        "    if fila_preferencial:\n",
        "        cliente = fila_preferencial.popleft()\n",
        "    elif fila_normal:\n",
        "        cliente = fila_normal.popleft()\n",
        "    else:\n",
        "        cliente = None\n",
        "\n",
        "    if cliente:\n",
        "        print(f\"Atendendo: {cliente}\")\n",
        "    else:\n",
        "        print(\"Fila vazia!\")\n",
        "\n",
        "def mostrar_fila():\n",
        "    print(\"\\nFila Preferencial:\", list(fila_preferencial))\n",
        "    print(\"Fila Normal:\", list(fila_normal))\n",
        "\n",
        "# Teste\n",
        "adicionar_cliente(\"João\")\n",
        "adicionar_cliente(\"Maria\", preferencial=True)\n",
        "adicionar_cliente(\"Carlos\")\n",
        "adicionar_cliente(\"Dona Ana\", preferencial=True)\n",
        "\n",
        "mostrar_fila()\n",
        "\n",
        "atender_cliente()\n",
        "atender_cliente()\n",
        "\n",
        "mostrar_fila()\n"
      ]
    }
  ]
}