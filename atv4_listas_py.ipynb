{
  "nbformat": 4,
  "nbformat_minor": 0,
  "metadata": {
    "colab": {
      "provenance": [],
      "authorship_tag": "ABX9TyPewVIvZ+DYtnbk6ybjK8tW",
      "include_colab_link": true
    },
    "kernelspec": {
      "name": "python3",
      "display_name": "Python 3"
    },
    "language_info": {
      "name": "python"
    }
  },
  "cells": [
    {
      "cell_type": "markdown",
      "metadata": {
        "id": "view-in-github",
        "colab_type": "text"
      },
      "source": [
        "<a href=\"https://colab.research.google.com/github/PedroMarra/Estrutura-de-Dados/blob/main/atv4_listas_py.ipynb\" target=\"_parent\"><img src=\"https://colab.research.google.com/assets/colab-badge.svg\" alt=\"Open In Colab\"/></a>"
      ]
    },
    {
      "cell_type": "code",
      "execution_count": 1,
      "metadata": {
        "colab": {
          "base_uri": "https://localhost:8080/"
        },
        "id": "qeLfdzpit_Z8",
        "outputId": "35f534db-e89d-4840-daa2-a0a6fe5a216d"
      },
      "outputs": [
        {
          "output_type": "stream",
          "name": "stdout",
          "text": [
            "Quantidade de números pares: 5\n",
            "Lista de números pares: [2, 4, 6, 8, 10]\n",
            "Média da lista: 5.5\n"
          ]
        }
      ],
      "source": [
        "def analisar_lista(numeros):\n",
        "    # Contar números pares\n",
        "    contagem_pares = sum(1 for num in numeros if num % 2 == 0)\n",
        "\n",
        "    # Criar nova lista com números pares\n",
        "    lista_pares = [num for num in numeros if num % 2 == 0]\n",
        "\n",
        "    # Calcular a média da lista\n",
        "    if len(numeros) > 0:\n",
        "        media = sum(numeros) / len(numeros)\n",
        "    else:\n",
        "        media = 0  # Evitar divisão por zero\n",
        "\n",
        "    return contagem_pares, lista_pares, media\n",
        "\n",
        "# Exemplo de uso\n",
        "numeros = [1, 2, 3, 4, 5, 6, 7, 8, 9, 10]\n",
        "contagem, lista_pares, media = analisar_lista(numeros)\n",
        "\n",
        "print(\"Quantidade de números pares:\", contagem)\n",
        "print(\"Lista de números pares:\", lista_pares)\n",
        "print(\"Média da lista:\", media)"
      ]
    }
  ]
}