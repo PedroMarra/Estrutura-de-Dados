{
  "nbformat": 4,
  "nbformat_minor": 0,
  "metadata": {
    "colab": {
      "provenance": [],
      "authorship_tag": "ABX9TyOyQQ9m3pB32eJWM7Dn745U",
      "include_colab_link": true
    },
    "kernelspec": {
      "name": "python3",
      "display_name": "Python 3"
    },
    "language_info": {
      "name": "python"
    }
  },
  "cells": [
    {
      "cell_type": "markdown",
      "metadata": {
        "id": "view-in-github",
        "colab_type": "text"
      },
      "source": [
        "<a href=\"https://colab.research.google.com/github/PedroMarra/Estrutura-de-Dados/blob/main/atv3_pilhas_py.ipynb\" target=\"_parent\"><img src=\"https://colab.research.google.com/assets/colab-badge.svg\" alt=\"Open In Colab\"/></a>"
      ]
    },
    {
      "cell_type": "code",
      "execution_count": null,
      "metadata": {
        "colab": {
          "base_uri": "https://localhost:8080/"
        },
        "id": "q2Y_SGp5TmUp",
        "outputId": "9ac7fa52-9a29-4025-c42b-297560695ff0"
      },
      "outputs": [
        {
          "output_type": "stream",
          "name": "stdout",
          "text": [
            "Digite um número: 10\n",
            "Número par empilhado: 10\n",
            "Digite um número: 8\n",
            "Número par empilhado: 8\n",
            "Digite um número: 12\n",
            "Número par empilhado: 12\n",
            "Digite um número: 14\n",
            "Número par empilhado: 14\n",
            "Digite um número: 16\n",
            "Número par empilhado: 16\n",
            "Digite um número: 18\n",
            "Número par empilhado: 18\n",
            "Digite um número: 20\n",
            "Número par empilhado: 20\n",
            "Digite um número: 22\n",
            "Número par empilhado: 22\n",
            "Digite um número: 24\n",
            "Número par empilhado: 24\n",
            "Digite um número: 30\n",
            "Número par empilhado: 30\n",
            "Desempilhando todos os elementos restantes:\n",
            "30\n",
            "24\n",
            "22\n",
            "20\n",
            "18\n",
            "16\n",
            "14\n",
            "12\n",
            "8\n",
            "10\n"
          ]
        }
      ],
      "source": [
        "# Inicializa a pilha\n",
        "pilha = []\n",
        "\n",
        "# Lê 10 números do usuário\n",
        "for i in range(10):\n",
        "    numero = int(input(\"Digite um número: \"))\n",
        "\n",
        "    # Se o número for par, empilha\n",
        "    if numero % 2 == 0:\n",
        "        pilha.append(numero)\n",
        "        print(\"Número par empilhado:\", numero)\n",
        "    else:\n",
        "        # Se o número for ímpar, desempilha se a pilha não estiver vazia\n",
        "        if len(pilha) > 0:\n",
        "            desempilhado = pilha.pop()\n",
        "            print(\"Número ímpar encontrado. Desempilhado:\", desempilhado)\n",
        "        else:\n",
        "            print(\"Pilha vazia.\")\n",
        "\n",
        "# Desempilha todos os elementos restantes\n",
        "if len(pilha) > 0:\n",
        "    print(\"Desempilhando todos os elementos restantes:\")\n",
        "    while len(pilha) > 0:\n",
        "        print(pilha.pop())\n",
        "else:\n",
        "    print(\"A pilha já está vazia.\")"
      ]
    }
  ]
}