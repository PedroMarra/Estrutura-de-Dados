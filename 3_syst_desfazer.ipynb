{
  "nbformat": 4,
  "nbformat_minor": 0,
  "metadata": {
    "colab": {
      "provenance": [],
      "authorship_tag": "ABX9TyOd9rcN8GDTKXcSTLYPRYq9",
      "include_colab_link": true
    },
    "kernelspec": {
      "name": "python3",
      "display_name": "Python 3"
    },
    "language_info": {
      "name": "python"
    }
  },
  "cells": [
    {
      "cell_type": "markdown",
      "metadata": {
        "id": "view-in-github",
        "colab_type": "text"
      },
      "source": [
        "<a href=\"https://colab.research.google.com/github/PedroMarra/Estrutura-de-Dados/blob/main/3_syst_desfazer.ipynb\" target=\"_parent\"><img src=\"https://colab.research.google.com/assets/colab-badge.svg\" alt=\"Open In Colab\"/></a>"
      ]
    },
    {
      "cell_type": "code",
      "execution_count": 1,
      "metadata": {
        "colab": {
          "base_uri": "https://localhost:8080/"
        },
        "id": "GI3kXuxXj1Uv",
        "outputId": "52302e0c-d8a2-4002-b379-9e5cb06be4e0"
      },
      "outputs": [
        {
          "output_type": "stream",
          "name": "stdout",
          "text": [
            "Ação realizada: Escreveu 'Olá'\n",
            "Ação realizada: Escreveu 'Mundo'\n",
            "Ação realizada: Apagou 'Mundo'\n",
            "Desfez ação: Apagou 'Mundo'\n",
            "Refez ação: Apagou 'Mundo'\n"
          ]
        }
      ],
      "source": [
        "pilha_acao = []\n",
        "pilha_refazer = []\n",
        "limite = 5\n",
        "\n",
        "def realizar_acao(acao):\n",
        "    if len(pilha_acao) >= limite:\n",
        "        pilha_acao.pop(0)  # remove a ação mais antiga\n",
        "    pilha_acao.append(acao)\n",
        "    pilha_refazer.clear()\n",
        "    print(f\"Ação realizada: {acao}\")\n",
        "\n",
        "def desfazer_acao():\n",
        "    if pilha_acao:\n",
        "        acao = pilha_acao.pop()\n",
        "        pilha_refazer.append(acao)\n",
        "        print(f\"Desfez ação: {acao}\")\n",
        "    else:\n",
        "        print(\"Nada para desfazer!\")\n",
        "\n",
        "def refazer_acao():\n",
        "    if pilha_refazer:\n",
        "        acao = pilha_refazer.pop()\n",
        "        pilha_acao.append(acao)\n",
        "        print(f\"Refez ação: {acao}\")\n",
        "    else:\n",
        "        print(\"Nada para refazer!\")\n",
        "\n",
        "# Teste\n",
        "realizar_acao(\"Escreveu 'Olá'\")\n",
        "realizar_acao(\"Escreveu 'Mundo'\")\n",
        "realizar_acao(\"Apagou 'Mundo'\")\n",
        "desfazer_acao()\n",
        "refazer_acao()\n"
      ]
    }
  ]
}