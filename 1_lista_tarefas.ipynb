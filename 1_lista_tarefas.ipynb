{
  "nbformat": 4,
  "nbformat_minor": 0,
  "metadata": {
    "colab": {
      "provenance": [],
      "authorship_tag": "ABX9TyO5CzUgNllN6kaRFeknaY+u",
      "include_colab_link": true
    },
    "kernelspec": {
      "name": "python3",
      "display_name": "Python 3"
    },
    "language_info": {
      "name": "python"
    }
  },
  "cells": [
    {
      "cell_type": "markdown",
      "metadata": {
        "id": "view-in-github",
        "colab_type": "text"
      },
      "source": [
        "<a href=\"https://colab.research.google.com/github/PedroMarra/Estrutura-de-Dados/blob/main/1_lista_tarefas.ipynb\" target=\"_parent\"><img src=\"https://colab.research.google.com/assets/colab-badge.svg\" alt=\"Open In Colab\"/></a>"
      ]
    },
    {
      "cell_type": "code",
      "execution_count": 1,
      "metadata": {
        "colab": {
          "base_uri": "https://localhost:8080/"
        },
        "id": "9QmG12C9jL_P",
        "outputId": "26afa3fa-b4a6-4f94-ba8f-bb16edafe5b7"
      },
      "outputs": [
        {
          "output_type": "stream",
          "name": "stdout",
          "text": [
            "\n",
            "Tarefas pendentes (organizadas por prioridade):\n",
            "- Estudar para prova (Prioridade: 1)\n",
            "- Comprar pão (Prioridade: 2)\n",
            "- Lavar roupa (Prioridade: 3)\n",
            "\n",
            "Tarefas pendentes (organizadas por prioridade):\n",
            "- Estudar para prova (Prioridade: 1)\n",
            "- Comprar pão (Prioridade: 2)\n"
          ]
        }
      ],
      "source": [
        "tarefas = []\n",
        "\n",
        "def adicionar_tarefa(titulo, prioridade):\n",
        "    tarefas.append({'titulo': titulo, 'prioridade': prioridade})\n",
        "\n",
        "def remover_tarefa(titulo):\n",
        "    global tarefas\n",
        "    tarefas = [t for t in tarefas if t['titulo'] != titulo]\n",
        "\n",
        "def listar_tarefas():\n",
        "    print(\"\\nTarefas pendentes (organizadas por prioridade):\")\n",
        "    for tarefa in sorted(tarefas, key=lambda x: x['prioridade']):\n",
        "        print(f\"- {tarefa['titulo']} (Prioridade: {tarefa['prioridade']})\")\n",
        "\n",
        "# Teste\n",
        "adicionar_tarefa(\"Estudar para prova\", 1)\n",
        "adicionar_tarefa(\"Lavar roupa\", 3)\n",
        "adicionar_tarefa(\"Comprar pão\", 2)\n",
        "\n",
        "listar_tarefas()\n",
        "\n",
        "remover_tarefa(\"Lavar roupa\")\n",
        "\n",
        "listar_tarefas()\n"
      ]
    }
  ]
}