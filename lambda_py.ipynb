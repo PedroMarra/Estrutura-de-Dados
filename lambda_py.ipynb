{
  "nbformat": 4,
  "nbformat_minor": 0,
  "metadata": {
    "colab": {
      "provenance": [],
      "authorship_tag": "ABX9TyM3SUYsMHoIpkKdoJltyzWh",
      "include_colab_link": true
    },
    "kernelspec": {
      "name": "python3",
      "display_name": "Python 3"
    },
    "language_info": {
      "name": "python"
    }
  },
  "cells": [
    {
      "cell_type": "markdown",
      "metadata": {
        "id": "view-in-github",
        "colab_type": "text"
      },
      "source": [
        "<a href=\"https://colab.research.google.com/github/PedroMarra/Estrutura-de-Dados/blob/main/lambda_py.ipynb\" target=\"_parent\"><img src=\"https://colab.research.google.com/assets/colab-badge.svg\" alt=\"Open In Colab\"/></a>"
      ]
    },
    {
      "cell_type": "code",
      "execution_count": 1,
      "metadata": {
        "colab": {
          "base_uri": "https://localhost:8080/"
        },
        "id": "_rfwU3rGJNKF",
        "outputId": "1d41a372-4e56-4412-e8fb-fca964738e85"
      },
      "outputs": [
        {
          "output_type": "stream",
          "name": "stdout",
          "text": [
            "w\n",
            "36\n",
            "r\n",
            "7\n",
            "p(q(r))\n",
            "2\n",
            "0\n",
            "7\n",
            "w\n",
            "68\n"
          ]
        }
      ],
      "source": [
        "# (λx. λy. x y y)(λz. z)(w)\n",
        "f1 = lambda x: lambda y: x(y)\n",
        "g1 = lambda z: z\n",
        "w = \"w\"\n",
        "resultado1 = f1(g1)(w)\n",
        "print(resultado1)\n",
        "\n",
        "\n",
        "# (λx. x * x)(λy. y + 2)(4)\n",
        "f2 = lambda x: x * x\n",
        "g2 = lambda y: y + 2\n",
        "resultado2 = f2(g2(4))\n",
        "print(resultado2)\n",
        "\n",
        "\n",
        "# (λa. λb. ab)(λc. c)(r)\n",
        "f3 = lambda a: lambda b: a(b)\n",
        "g3 = lambda c: c\n",
        "r = \"r\"\n",
        "resultado3 = f3(g3)(r)\n",
        "print(resultado3)\n",
        "\n",
        "\n",
        "# (λx. λy. λz. x + z − y)(5)(6)(8)\n",
        "f4 = lambda x: lambda y: lambda z: x + z - y\n",
        "resultado4 = f4(5)(6)(8)\n",
        "print(resultado4)\n",
        "\n",
        "\n",
        "# (λg. λx. λy. g(xy))(p)(q)(r)\n",
        "f5 = lambda g: lambda x: lambda y: g(x(y))\n",
        "p = lambda x: f\"p({x})\"\n",
        "q = lambda y: f\"q({y})\"\n",
        "r = \"r\"\n",
        "resultado5 = f5(p)(q)(r)\n",
        "print(resultado5)\n",
        "\n",
        "\n",
        "# (λx. x - y)(12)(10)\n",
        "f6 = lambda x: lambda y: x - y\n",
        "resultado6 = f6(12)(10)\n",
        "print(resultado6)\n",
        "\n",
        "\n",
        "# (λg. λx. ggx)(λy. y - 2)(4)\n",
        "f7 = lambda g: lambda x: g(g(x))\n",
        "g7 = lambda y: y - 2\n",
        "resultado7 = f7(g7)(4)\n",
        "print(resultado7)\n",
        "\n",
        "\n",
        "# (λx. x - 2)(λy. y + 3)(6)\n",
        "f8 = lambda x: x - 2\n",
        "g8 = lambda y: y + 3\n",
        "resultado8 = f8(g8(6))\n",
        "print(resultado8)\n",
        "\n",
        "\n",
        "# (λz. z)(λx. x)(λy. y)(w)\n",
        "f9 = lambda z: z\n",
        "g9 = lambda x: x\n",
        "resultado9 = f9(g9)(w)\n",
        "print(resultado9)\n",
        "\n",
        "\n",
        "# (λy. 4 * y)(λz. z + 2 + 2 * z)(5)\n",
        "f10 = lambda x: 4 * x\n",
        "g10 = lambda z: z + 2 + 2 * z\n",
        "resultado10 = f10(g10(5))\n",
        "print(resultado10)\n"
      ]
    }
  ]
}